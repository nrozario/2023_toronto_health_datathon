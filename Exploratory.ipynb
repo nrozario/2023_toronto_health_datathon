{
 "cells": [
  {
   "cell_type": "code",
   "execution_count": null,
   "metadata": {},
   "outputs": [],
   "source": [
    "import os\n",
    "import logging\n",
    "from google.cloud import storage\n",
    "os.environ[\"GOOGLE_APPLICATION_CREDENTIALS\"] \\\n",
    "= \"data/key/healthdatanexus-review-d7f7ef30e829.json\"\n",
    "import pandas as pd\n",
    "import numpy as np\n",
    "import plotly.express as px\n",
    "import warnings"
   ]
  },
  {
   "cell_type": "code",
   "execution_count": null,
   "metadata": {},
   "outputs": [],
   "source": [
    "test_encount_dat = pd.read_csv(\n",
    "    'smh-gim-1.0.0.healthdatanexus.ai/pre-processed/test/test_encounters.csv')\n",
    "train_encount_dat = pd.read_csv(\n",
    "    'smh-gim-1.0.0.healthdatanexus.ai/pre-processed/train/train_encounters.csv')\n",
    "valid_encount_dat = pd.read_csv(\n",
    "    'smh-gim-1.0.0.healthdatanexus.ai/pre-processed/valid/valid_encounters.csv')"
   ]
  },
  {
   "cell_type": "code",
   "execution_count": null,
   "metadata": {},
   "outputs": [],
   "source": [
    "## Get encounter data, dropping any duplicates\n",
    "warnings.filterwarnings(\"ignore\")\n",
    "\n",
    "encount_dat = test_encount_dat.append(\n",
    "    train_encount_dat).append(valid_encount_dat)\n",
    "num_enc = len(encount_dat[['ENCOUNTER_NUM']].drop_duplicates())\n",
    "\n",
    "# # Merge encounters with numerical values\n",
    "# encount_dat_pt = encount_dat[['ENCOUNTER_NUM','PATIENT_DK']]\n",
    "# num_enc = len(encount_dat_pt['ENCOUNTER_NUM'])"
   ]
  },
  {
   "cell_type": "code",
   "execution_count": null,
   "metadata": {},
   "outputs": [],
   "source": [
    "encount_dat.corr().to_csv('encounter_corr.csv')\n"
   ]
  },
  {
   "cell_type": "code",
   "execution_count": null,
   "metadata": {},
   "outputs": [],
   "source": [
    "test_numerical_dat = pd.read_csv(\n",
    "    'smh-gim-1.0.0.healthdatanexus.ai/pre-processed/test/test_numeric_timeseries_8hr.csv')\n",
    "train_numerical_dat = pd.read_csv(\n",
    "    'smh-gim-1.0.0.healthdatanexus.ai/pre-processed/train/train_numeric_timeseries_8hr.csv')\n",
    "valid_numerical_dat = pd.read_csv(\n",
    "    'smh-gim-1.0.0.healthdatanexus.ai/pre-processed/valid/valid_numeric_timeseries_8hr.csv')"
   ]
  },
  {
   "cell_type": "code",
   "execution_count": null,
   "metadata": {},
   "outputs": [],
   "source": [
    "outcomes = encount_dat[['ENCOUNTER_NUM','OUTCOME_ALL']]\n",
    "\n",
    "\n",
    "numerical_dat = test_numerical_dat.append(\n",
    "    train_numerical_dat).append(valid_numerical_dat)\n",
    "num_numerical = len(numerical_dat[['ENCOUNTER_NUM']].drop_duplicates())\n",
    "\n",
    "numerical_dat = numerical_dat.merge(\n",
    "    outcomes, on='ENCOUNTER_NUM',how='left')"
   ]
  },
  {
   "cell_type": "code",
   "execution_count": null,
   "metadata": {},
   "outputs": [],
   "source": [
    "numerical_dat.corr().to_csv('numerical_corr.csv')\n"
   ]
  },
  {
   "cell_type": "code",
   "execution_count": null,
   "metadata": {},
   "outputs": [],
   "source": [
    "import seaborn as sns\n",
    "import matplotlib.pyplot as plt\n",
    "\n",
    "numerical_corr = pd.read_csv('numerical_corr.csv')[['OUTCOME_ALL']]\n",
    "numerical_corr_outcome_labels = pd.read_csv('numerical_corr.csv')['Unnamed: 0']\n",
    "\n",
    "fig, ax = plt.subplots(figsize=(10, 70))\n",
    "\n",
    "sns.heatmap(numerical_corr, annot=False, yticklabels=np.array(numerical_corr_outcome_labels))"
   ]
  },
  {
   "cell_type": "code",
   "execution_count": null,
   "metadata": {},
   "outputs": [],
   "source": [
    "numerical_corr = pd.read_csv('numerical_corr.csv')\n",
    "numerical_corr = numerical_corr[['Unnamed: 0', 'OUTCOME_ALL']]"
   ]
  },
  {
   "cell_type": "code",
   "execution_count": null,
   "metadata": {},
   "outputs": [],
   "source": [
    "encounter_corr = pd.read_csv('encounter_corr.csv')[['OUTCOME_ALL']]\n",
    "\n",
    "fig, ax = plt.subplots(figsize=(5, 6))\n",
    "ax.set_title(\"Encounter Correlation Heatmap\")\n",
    "encounter_corr_outcome_labels = pd.read_csv('encounter_corr.csv')['Unnamed: 0']\n",
    "\n",
    "sns.heatmap(encounter_corr, annot=False, yticklabels=np.array(encounter_corr_outcome_labels))\n"
   ]
  },
  {
   "cell_type": "code",
   "execution_count": null,
   "metadata": {},
   "outputs": [],
   "source": [
    "test_demo_dat = pd.read_csv(\n",
    "    'smh-gim-1.0.0.healthdatanexus.ai/pre-processed/test/test_demographics.csv')\n",
    "train_demo_dat = pd.read_csv(\n",
    "    'smh-gim-1.0.0.healthdatanexus.ai/pre-processed/train/train_demographics.csv')\n",
    "valid_demo_dat = pd.read_csv(\n",
    "    'smh-gim-1.0.0.healthdatanexus.ai/pre-processed/valid/valid_demographics.csv')\n"
   ]
  },
  {
   "cell_type": "code",
   "execution_count": null,
   "metadata": {},
   "outputs": [],
   "source": [
    "patient_dat = test_demo_dat.append(\n",
    "    train_demo_dat).append(valid_demo_dat)\n",
    "\n",
    "patient_dat = patient_dat.merge(\n",
    "    encount_dat[['ENCOUNTER_NUM','PATIENT_DK']], on='ENCOUNTER_NUM',how='left')\n",
    "\n",
    "patient_housing = patient_dat[['PATIENT_DK','no_housing']].drop_duplicates()\n",
    "patient_marital = patient_dat[['PATIENT_DK','marital']].drop_duplicates()\n",
    "\n",
    "housing = patient_housing[['PATIENT_DK','no_housing']].groupby(\n",
    "    'no_housing',as_index=False).count()\n",
    "housing['no_housing'] = ['housed','unhoused']\n",
    "housing.columns = ['no_housing','Count']\n",
    "housing"
   ]
  },
  {
   "cell_type": "code",
   "execution_count": null,
   "metadata": {},
   "outputs": [],
   "source": [
    "fig_housing = px.pie(housing, values='Count', names='no_housing', title='Patient Demographics: Housing Status')\n",
    "fig_housing.update_layout(paper_bgcolor=\"#f9f9f9\")\n",
    "fig_housing.update_layout(title_x=0.5)\n",
    "\n",
    "\n",
    "fig_housing"
   ]
  },
  {
   "cell_type": "code",
   "execution_count": null,
   "metadata": {},
   "outputs": [],
   "source": [
    "encount_gender = encount_dat[['ENCOUNTER_NUM','gender']].drop_duplicates()\n",
    "\n",
    "\n",
    "gender = encount_gender[['ENCOUNTER_NUM','gender']].groupby(\n",
    "    'gender',as_index=False).count()\n",
    "gender['gender'] = ['Male','Female']\n",
    "gender.columns = ['Gender','Count']\n",
    "gender"
   ]
  },
  {
   "cell_type": "code",
   "execution_count": null,
   "metadata": {},
   "outputs": [],
   "source": [
    "fig_gender = px.pie(gender, values='Count', names='Gender', title='Encounters: Gender')\n",
    "fig_gender.update_layout(paper_bgcolor=\"#f9f9f9\")\n",
    "fig_gender.update_layout(title_x=0.5)\n",
    "\n",
    "\n",
    "fig_gender"
   ]
  },
  {
   "cell_type": "code",
   "execution_count": null,
   "metadata": {},
   "outputs": [],
   "source": [
    "encount_entry = encount_dat[['ENCOUNTER_NUM','time_to_event']].drop_duplicates()\n",
    "encount_entry['time_to_event'] = encount_entry['time_to_event'].astype(int)\n",
    "encount_entry = encount_entry[encount_entry['time_to_event'] < 500]\n",
    "\n",
    "entry = encount_entry[['ENCOUNTER_NUM','time_to_event']].groupby(\n",
    "    'time_to_event',as_index=False).count()\n",
    "entry.columns = ['Time from GIM Entry to Outcome','Frequency']\n",
    "total_frenquency = entry['Frequency'].sum()\n",
    "\n",
    "entry['Frequency']= entry['Frequency'].div(total_frenquency / 100)"
   ]
  },
  {
   "cell_type": "code",
   "execution_count": null,
   "metadata": {},
   "outputs": [],
   "source": [
    "fig_entry = px.bar(entry, x=\"Time from GIM Entry to Outcome\", y=\"Frequency\", title='Encounters: Time from GIM Entry to Outcome',\n",
    "                 labels={\"Time from GIM Entry to Outcome\" : \"Time from GIM Entry to Outcome (Hours)\",\n",
    "                         \"Frequency\" : \"Frequency (%)\"})\n",
    "fig_entry.update_layout(paper_bgcolor=\"#ffffff\")\n",
    "fig_entry.update_traces(marker_color='red')\n",
    "fig_entry.update_layout(title_x=0.5)\n",
    "\n",
    "fig_entry"
   ]
  },
  {
   "cell_type": "code",
   "execution_count": null,
   "metadata": {},
   "outputs": [],
   "source": [
    "test_baseline_dat = pd.read_csv(\n",
    "    'smh-gim-1.0.0.healthdatanexus.ai/pre-processed/test/test_baseline_values_8hr.csv')\n",
    "train_baseline_dat = pd.read_csv(\n",
    "    'smh-gim-1.0.0.healthdatanexus.ai/pre-processed/train/train_baseline_values_8hr.csv')\n",
    "valid_baseline_dat = pd.read_csv(\n",
    "    'smh-gim-1.0.0.healthdatanexus.ai/pre-processed/valid/valid_baseline_values_8hr.csv')"
   ]
  },
  {
   "cell_type": "code",
   "execution_count": null,
   "metadata": {},
   "outputs": [],
   "source": [
    "baseline_dat = test_baseline_dat.append(\n",
    "    train_baseline_dat).append(valid_baseline_dat)\n",
    "lab_aneut = baseline_dat[['ENCOUNTER_NUM','lab_aneut']].drop_duplicates().append(numerical_dat[['ENCOUNTER_NUM','lab_aneut']].drop_duplicates())\n",
    "lab_aneut['lab_aneut'] = lab_aneut['lab_aneut'].round(2)\n",
    "lab_aneut = lab_aneut[lab_aneut['lab_aneut'] < 0.6]\n",
    "\n",
    "\n",
    "aneut = lab_aneut[['ENCOUNTER_NUM','lab_aneut']].groupby(\n",
    "    'lab_aneut',as_index=False).count()\n",
    "aneut.columns = ['Absolute Neutrophils','Frequency']\n",
    "total_frenquency = aneut['Frequency'].sum()\n",
    "\n",
    "aneut['Frequency']= aneut['Frequency'].div(total_frenquency / 100)"
   ]
  },
  {
   "cell_type": "code",
   "execution_count": null,
   "metadata": {},
   "outputs": [],
   "source": [
    "fig_entry = px.bar(aneut, x=\"Absolute Neutrophils\", y=\"Frequency\", title=\"Labs: Absolute Neutrophils\",\n",
    "                 labels={\"Absolute Neutrophils\" : \"Absolute Neutrophils\",\n",
    "                         \"Frequency\" : \"Frequency (%)\"})\n",
    "fig_entry.update_layout(paper_bgcolor=\"#ffffff\")\n",
    "fig_entry.update_traces(marker_color='red')\n",
    "fig_entry.update_layout(title_x=0.5)\n",
    "\n",
    "fig_entry"
   ]
  },
  {
   "cell_type": "code",
   "execution_count": null,
   "metadata": {},
   "outputs": [],
   "source": [
    "lab_rdw = baseline_dat[['ENCOUNTER_NUM','lab_rdw']].drop_duplicates().append(numerical_dat[['ENCOUNTER_NUM','lab_rdw']].drop_duplicates())\n",
    "lab_rdw['lab_rdw'] = lab_rdw['lab_rdw'].round(2)\n",
    "lab_rdw = lab_rdw[lab_rdw['lab_rdw'] < 0.6]\n",
    "\n",
    "\n",
    "rdw = lab_rdw[['ENCOUNTER_NUM','lab_rdw']].groupby(\n",
    "    'lab_rdw',as_index=False).count()\n",
    "rdw.columns = ['Red Cell Distribution Width','Frequency']\n",
    "total_frenquency = rdw['Frequency'].sum()\n",
    "\n",
    "rdw['Frequency']= rdw['Frequency'].div(total_frenquency / 100)"
   ]
  },
  {
   "cell_type": "code",
   "execution_count": null,
   "metadata": {},
   "outputs": [],
   "source": [
    "fig_entry = px.bar(rdw, x=\"Red Cell Distribution Width\", y=\"Frequency\", title=\"Labs: Red Cell Distribution Width\",\n",
    "                 labels={\"Red Cell Distribution Width\" : \"Red Cell Distribution Width\",\n",
    "                         \"Frequency\" : \"Frequency (%)\"})\n",
    "fig_entry.update_layout(paper_bgcolor=\"#ffffff\")\n",
    "fig_entry.update_traces(marker_color='red')\n",
    "fig_entry.update_layout(title_x=0.5)\n",
    "\n",
    "fig_entry"
   ]
  }
 ],
 "metadata": {
  "kernelspec": {
   "display_name": "Python 3",
   "language": "python",
   "name": "python3"
  },
  "language_info": {
   "codemirror_mode": {
    "name": "ipython",
    "version": 3
   },
   "file_extension": ".py",
   "mimetype": "text/x-python",
   "name": "python",
   "nbconvert_exporter": "python",
   "pygments_lexer": "ipython3",
   "version": "3.7.3"
  }
 },
 "nbformat": 4,
 "nbformat_minor": 2
}
