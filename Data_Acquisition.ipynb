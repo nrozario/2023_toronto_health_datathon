{
 "cells": [
  {
   "cell_type": "code",
   "execution_count": null,
   "metadata": {},
   "outputs": [],
   "source": [
    "import pandas as pd"
   ]
  },
  {
   "cell_type": "code",
   "execution_count": null,
   "metadata": {},
   "outputs": [],
   "source": [
    "test_encount_dat = pd.read_csv(\n",
    "    'smh-gim-1.0.0.healthdatanexus.ai/pre-processed/test/test_encounters.csv')\n",
    "train_encount_dat = pd.read_csv(\n",
    "    'smh-gim-1.0.0.healthdatanexus.ai/pre-processed/train/train_encounters.csv')\n",
    "valid_encount_dat = pd.read_csv(\n",
    "    'smh-gim-1.0.0.healthdatanexus.ai/pre-processed/valid/valid_encounters.csv')"
   ]
  },
  {
   "cell_type": "code",
   "execution_count": null,
   "metadata": {},
   "outputs": [],
   "source": [
    "encounters = pd.read_csv(\"smh-gim-1.0.0.healthdatanexus.ai/pre-processed/train/train_encounters.csv\")\n",
    "\n",
    "encounters_to_keep = ['ENCOUNTER_NUM','gender', 'age', 'pre_gim_icu', 'OUTCOME_ALL', 'gim_to_outcome']\n",
    "base_values = pd.read_csv('smh-gim-1.0.0.healthdatanexus.ai/pre-processed/train/train_baseline_values_8hr.csv')\n",
    "encounters = encounters[encounters_to_keep]\n",
    "numeric_values = pd.read_csv(\"smh-gim-1.0.0.healthdatanexus.ai/pre-processed/train/train_numeric_timeseries_8hr.csv\")\n",
    "final_values = numeric_values.sort_values('time_window').groupby('ENCOUNTER_NUM').tail(1)\n",
    "final_values = final_values[final_values.columns.intersection(base_values.columns)]\n",
    "base_values = base_values[final_values.columns.intersection(base_values.columns)]\n",
    "common_features = final_values.columns\n",
    "labs_to_keep = ['ENCOUNTER_NUM', 'lab_aneut', 'lab_iwbcr',\"lab_rdw\", 'vital_so2saturation', 'vital_spulse', 'vital_srespirations', 'vital_stemperature']\n",
    "patient_dat = train_demo_dat = pd.read_csv(\n",
    "    'smh-gim-1.0.0.healthdatanexus.ai/pre-processed/train/train_demographics.csv')\n",
    "demos_to_keep = ['ENCOUNTER_NUM', 'no_housing', 'marital']\n",
    "patient_dat = patient_dat[demos_to_keep]\n",
    "patient_dat['marital'] = patient_dat['marital'].replace(to_replace=['marital_divorced_widowed', 'marital_parterned', 'marital_single', 'marital_unknown_other'], value=[0, 1, 2, 3])\n",
    "\n",
    "all_values = pd.merge(base_values[labs_to_keep], final_values[labs_to_keep], on = 'ENCOUNTER_NUM')\n",
    "all_values = pd.merge(patient_dat[demos_to_keep], all_values, on = 'ENCOUNTER_NUM')\n",
    "final_train_dataset = pd.merge(encounters, all_values, on=\"ENCOUNTER_NUM\")"
   ]
  },
  {
   "cell_type": "code",
   "execution_count": null,
   "metadata": {},
   "outputs": [],
   "source": [
    "final_train_dataset"
   ]
  },
  {
   "cell_type": "code",
   "execution_count": null,
   "metadata": {},
   "outputs": [],
   "source": [
    "final_train_dataset.to_csv(\"final_train.csv\")"
   ]
  },
  {
   "cell_type": "code",
   "execution_count": null,
   "metadata": {},
   "outputs": [],
   "source": [
    "encounters = pd.read_csv(\"smh-gim-1.0.0.healthdatanexus.ai/pre-processed/test/test_encounters.csv\")\n",
    "\n",
    "encounters_to_keep = ['ENCOUNTER_NUM','gender', 'age', 'pre_gim_icu', 'OUTCOME_ALL', 'gim_to_outcome']\n",
    "base_values = pd.read_csv('smh-gim-1.0.0.healthdatanexus.ai/pre-processed/test/test_baseline_values_8hr.csv')\n",
    "encounters = encounters[encounters_to_keep]\n",
    "numeric_values = pd.read_csv(\"smh-gim-1.0.0.healthdatanexus.ai/pre-processed/test/test_numeric_timeseries_8hr.csv\")\n",
    "final_values = numeric_values.sort_values('time_window').groupby('ENCOUNTER_NUM').tail(1)\n",
    "final_values = final_values[final_values.columns.intersection(base_values.columns)]\n",
    "base_values = base_values[final_values.columns.intersection(base_values.columns)]\n",
    "common_features = final_values.columns\n",
    "labs_to_keep = ['ENCOUNTER_NUM', 'lab_aneut', 'lab_iwbcr',\"lab_rdw\", 'vital_so2saturation', 'vital_spulse', 'vital_srespirations', 'vital_stemperature']\n",
    "patient_dat = train_demo_dat = pd.read_csv(\n",
    "    'smh-gim-1.0.0.healthdatanexus.ai/pre-processed/test/test_demographics.csv')\n",
    "demos_to_keep = ['ENCOUNTER_NUM', 'no_housing', 'marital']\n",
    "patient_dat = patient_dat[demos_to_keep]\n",
    "patient_dat['marital'] = patient_dat['marital'].replace(to_replace=['marital_divorced_widowed', 'marital_parterned', 'marital_single', 'marital_unknown_other'], value=[0, 1, 2, 3])\n",
    "\n",
    "all_values = pd.merge(base_values[labs_to_keep], final_values[labs_to_keep], on = 'ENCOUNTER_NUM')\n",
    "all_values = pd.merge(patient_dat[demos_to_keep], all_values, on = 'ENCOUNTER_NUM')\n",
    "final_test_dataset = pd.merge(encounters, all_values, on=\"ENCOUNTER_NUM\")"
   ]
  },
  {
   "cell_type": "code",
   "execution_count": null,
   "metadata": {},
   "outputs": [],
   "source": [
    "final_test_dataset"
   ]
  },
  {
   "cell_type": "code",
   "execution_count": null,
   "metadata": {},
   "outputs": [],
   "source": [
    "final_test_dataset.to_csv(\"final_test.csv\")"
   ]
  },
  {
   "cell_type": "code",
   "execution_count": null,
   "metadata": {},
   "outputs": [],
   "source": [
    "encounters = pd.read_csv(\"smh-gim-1.0.0.healthdatanexus.ai/pre-processed/valid/valid_encounters.csv\")\n",
    "\n",
    "encounters_to_keep = ['ENCOUNTER_NUM','gender', 'age', 'pre_gim_icu', 'OUTCOME_ALL', 'gim_to_outcome']\n",
    "base_values = pd.read_csv('smh-gim-1.0.0.healthdatanexus.ai/pre-processed/valid/valid_baseline_values_8hr.csv')\n",
    "encounters = encounters[encounters_to_keep]\n",
    "numeric_values = pd.read_csv(\"smh-gim-1.0.0.healthdatanexus.ai/pre-processed/valid/valid_numeric_timeseries_8hr.csv\")\n",
    "final_values = numeric_values.sort_values('time_window').groupby('ENCOUNTER_NUM').tail(1)\n",
    "final_values = final_values[final_values.columns.intersection(base_values.columns)]\n",
    "base_values = base_values[final_values.columns.intersection(base_values.columns)]\n",
    "common_features = final_values.columns\n",
    "labs_to_keep = ['ENCOUNTER_NUM', 'lab_aneut', 'lab_iwbcr',\"lab_rdw\", 'vital_so2saturation', 'vital_spulse', 'vital_srespirations', 'vital_stemperature']\n",
    "patient_dat = train_demo_dat = pd.read_csv(\n",
    "    'smh-gim-1.0.0.healthdatanexus.ai/pre-processed/valid/valid_demographics.csv')\n",
    "demos_to_keep = ['ENCOUNTER_NUM', 'no_housing', 'marital']\n",
    "patient_dat = patient_dat[demos_to_keep]\n",
    "patient_dat['marital'] = patient_dat['marital'].replace(to_replace=['marital_divorced_widowed', 'marital_parterned', 'marital_single', 'marital_unknown_other'], value=[0, 1, 2, 3])\n",
    "\n",
    "all_values = pd.merge(base_values[labs_to_keep], final_values[labs_to_keep], on = 'ENCOUNTER_NUM')\n",
    "all_values = pd.merge(patient_dat[demos_to_keep], all_values, on = 'ENCOUNTER_NUM')\n",
    "\n",
    "final_valid_dataset = pd.merge(encounters, all_values, on=\"ENCOUNTER_NUM\")"
   ]
  },
  {
   "cell_type": "code",
   "execution_count": null,
   "metadata": {},
   "outputs": [],
   "source": [
    "final_valid_dataset"
   ]
  },
  {
   "cell_type": "code",
   "execution_count": null,
   "metadata": {},
   "outputs": [],
   "source": [
    "final_valid_dataset.to_csv(\"final_valid.csv\")"
   ]
  }
 ],
 "metadata": {
  "kernelspec": {
   "display_name": "Python 3",
   "language": "python",
   "name": "python3"
  },
  "language_info": {
   "codemirror_mode": {
    "name": "ipython",
    "version": 3
   },
   "file_extension": ".py",
   "mimetype": "text/x-python",
   "name": "python",
   "nbconvert_exporter": "python",
   "pygments_lexer": "ipython3",
   "version": "3.7.3"
  }
 },
 "nbformat": 4,
 "nbformat_minor": 2
}
